{
 "cells": [
  {
   "cell_type": "code",
   "execution_count": 3,
   "metadata": {},
   "outputs": [
    {
     "ename": "SyntaxError",
     "evalue": "invalid syntax (<ipython-input-3-e54e8390f98c>, line 2)",
     "output_type": "error",
     "traceback": [
      "\u001b[1;36m  File \u001b[1;32m\"<ipython-input-3-e54e8390f98c>\"\u001b[1;36m, line \u001b[1;32m2\u001b[0m\n\u001b[1;33m    {{Side box,\u001b[0m\n\u001b[1;37m             ^\u001b[0m\n\u001b[1;31mSyntaxError\u001b[0m\u001b[1;31m:\u001b[0m invalid syntax\n"
     ]
    }
   ],
   "source": [
    "# ==By educational attainment==\n",
    "\n",
    " text={{Graph:Chart\n",
    "   Educational Attainment: People 25 Years Old and Over by Median Income: 1991 to 2018 -->\n",
    "   Source: US Census table P-16 -->\n",
    "   https://www.census.gov/data/tables/time-series/demo/income-poverty/historical-income-people.html -->\n",
    "   Accessed 2020-06-05 -->\n",
    " \n",
    "#    Numbers were massaged to remove the breakdown by sex by weighting the income by the number of responses, and dividing by the total: =(B9*D9+E9*G9)/(B9+E9) -->\n",
    "#   Some years had multiple rows, which is explained in the footnotes. I just used the first row for a given year. The numbers are close enough that the differences won't matter for the purposes of this chart. -->\n",
    " \n",
    "   width=360\n",
    "   height=150\n",
    " \n",
    "   yAxisMin=0\n",
    "   yAxisMax=110000\n",
    "   xAxisMin=1990\n",
    " \n",
    "   xAxisTitle=\n",
    "   yAxisTitle=Median income (2018 dollars)\n",
    "   yAxisFormat=$,d\n",
    "   xAxisAngle=-45\n",
    "   legend=\n",
    "   type=line\n",
    "   xGrid=true\n",
    "   yGrid=true\n",
    " \n",
    "   x=1991,1992,1993,1994,1995,1996,1997,1998,1999,2000,2001,2002,2003,2004,2005,2006,2007,2008,2009,2010,2011,2012,2013,2014,2015,2016,2017,2018\n",
    " \n",
    "        colors=black,#17375E,#558ED5,#8EB4E3,#4F6228,#77933C,#C3D69B,#632523,#953735,#D99694\n",
    " \n",
    "   y1Title=OVERALL\n",
    "   y2Title=Doctorate\n",
    "   y3Title=Professional\n",
    "   y4Title=Master's\n",
    "   y5Title=Bachelor's\n",
    "   y6Title=Associate's\n",
    "   y7Title=Some college\n",
    "   y8Title=HS degree\n",
    "   y9Title=Some HS\n",
    "   y10Title=< 9th grade\n",
    " \n",
    "   y1=31492.61,31235.72,31305.81,31844.18,32695.83,33293.88,34587.55,35952.04,36427.20,36466.15,36073.62,35822.33,36263.09,36504.38,36348.93,36595.28,36885.40,35244.07,35100.85,34397.28,34057.76,34089.00,35026.38,34888.72,36016.04,36525.36,37701.84,38333.79\n",
    "   y2=86469.15,85404.35,89414.36,88738.25,85952.14,89944.44,97907.12,92561.16,95934.41,96174.45,94407.31,96433.04,91804.22,96461.63,91092.50,101185.76,94469.06,93027.74,95163.65,92674.63,84693.56,90781.86,95952.52,84498.79,87183.15,93690.03,96901.24,90779.10\n",
    "   y3=100779.33,105973.91,103019.99,90900.49,94836.65,100804.16,99686.30,101799.18,105967.63,104106.08,99329.76,102637.28,102419.75,101836.39,102655.10,105305.63,,,101227.98,96116.13,95216.68,96096.56,92308.00,94881.17,98116.46,98408.56,105238.09,102525.42\n",
    "   y4=66604.60,66160.61,66518.80,66697.08,68586.08,67222.88,69316.93,71446.32,74702.53,73271.16,72706.25,70864.42,70288.75,69844.62,69721.80,70434.80,71532.25,68721.55,69691.97,67036.40,66154.89,65285.74,66194.77,65766.34,67290.96,69022.18,69971.35,69316.58\n",
    "   y5=51986.39,52452.31,51911.29,52832.75,51879.02,51926.89,53532.15,56678.91,57417.16,58278.80,57578.63,56982.85,56307.05,54936.80,54254.88,55591.78,56208.10,54476.98,52648.68,52697.45,51930.71,51248.92,52376.59,53280.99,53927.39,54176.91,54321.76,54648.37\n",
    "   y6=40782.72,39571.35,40047.68,39441.94,40296.00,41425.18,41274.41,43160.70,42929.52,43316.96,42275.58,41810.57,42451.80,41996.18,42495.43,41260.51,41810.02,39940.33,39288.55,38960.53,37741.77,36805.34,36663.48,36636.08,37523.06,38495.25,38642.65,39488.63\n",
    "   y7=36269.78,35465.02,34597.05,34274.51,35419.96,36022.92,37028.26,38224.16,39032.12,38661.10,37948.19,38640.65,38024.72,37734.66,37076.91,36975.11,36677.55,35187.74,34819.54,33762.20,32756.98,32398.43,32280.74,32372.20,33800.11,34154.99,33821.69,34296.96\n",
    "   y8=28330.16,27860.16,27438.75,27631.77,28390.92,29335.00,29798.94,30472.16,31033.17,30713.02,30793.48,30024.57,30263.76,30196.39,30129.09,30267.83,30026.69,28774.75,28631.84,27743.11,27166.34,27046.69,27814.47,27383.73,27754.96,28180.54,28648.90,29082.07\n",
    "   y9=19304.22,18641.87,18335.21,18406.93,19314.54,19567.16,20068.52,20799.83,20442.89,21038.18,21178.68,21455.69,20486.62,20331.07,20876.47,21035.47,20160.82,19430.94,19027.65,18345.45,18403.54,17580.89,17360.53,18288.62,18921.75,19569.23,20026.38,19281.56\n",
    "   y10=14973.05,14720.15,14997.54,15382.69,15523.87,15668.13,15445.85,15887.16,16589.99,16777.34,16890.60,17140.21,17220.68,17488.66,17030.49,17692.50,16881.43,16489.73,16111.36,15945.60,16345.69,16202.74,16539.65,16946.18,17810.13,17966.45,17680.55,18310.85\n",
    " }}\n",
    "}}\n",
    "{|class=\"wikitable\" style=\"text-align: center;\"\n",
    " Median personal income by [[Educational attainment in the United States|educational attainment]], age 25+ (2017)<ref name=\"CPS 2015\" /><ref>{{cite web|url=https://www.bls.gov/emp/ep_chart_001.htm|title=Unemployment rates and earnings by educational attainment|website=www.bls.gov|access-date=2017-05-03}}</ref>\n",
    "\n",
    " style=\"text-align: left;\" | Measure||Some high school||High school graduate||Some college||[[Associate's degree]]||[[Bachelor's degree or higher]]||[[Bachelor's degree]]||[[Master's degree]]||[[Professional degree]]||[[Doctorate|Doctorate degree]]\n",
    "\n",
    " style=\"text-align: left;\" | Persons, w/ earnings||$24,576||$33,669||$37,968||$37,968||$61,440||$56,592||$70,608||$91,538||$79,231\n",
    "\n",
    " style=\"text-align: left;\" | Male, w/ earnings||$22,214||$32,307||$39,823||$43,785||$70,437||$62,304||$78,222||$111,881||$91,604\n",
    "\n",
    " style=\"text-align: left;\" | Female, w/ earnings||$20,784||$28,896||$33,360||$33,360||$54,480||$49,248||$61,200||$65,012||$68,887\n",
    "\n",
    " style=\"text-align: left;\" | Persons, employed full-time||$30,598||$38,102||$43,377||$47,401||$71,221||$64,074||$77,285||$117,679||$101,307\n",
    "}\n",
    "\n"
   ]
  },
  {
   "cell_type": "code",
   "execution_count": null,
   "metadata": {},
   "outputs": [],
   "source": []
  }
 ],
 "metadata": {
  "kernelspec": {
   "display_name": "Python 3",
   "language": "python",
   "name": "python3"
  },
  "language_info": {
   "codemirror_mode": {
    "name": "ipython",
    "version": 3
   },
   "file_extension": ".py",
   "mimetype": "text/x-python",
   "name": "python",
   "nbconvert_exporter": "python",
   "pygments_lexer": "ipython3",
   "version": "3.7.6"
  }
 },
 "nbformat": 4,
 "nbformat_minor": 4
}
